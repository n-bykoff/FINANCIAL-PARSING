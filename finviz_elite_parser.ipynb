{
 "cells": [
  {
   "cell_type": "markdown",
   "metadata": {},
   "source": [
    "# FINVIZ.COM PARSER WITH SELENIUM"
   ]
  },
  {
   "cell_type": "markdown",
   "metadata": {},
   "source": [
    "### All imports"
   ]
  },
  {
   "cell_type": "code",
   "execution_count": 1,
   "metadata": {},
   "outputs": [],
   "source": [
    "from selenium import webdriver\n",
    "import pandas as pd\n",
    "import numpy as np\n",
    "import time"
   ]
  },
  {
   "cell_type": "markdown",
   "metadata": {},
   "source": [
    "### Function with explanations"
   ]
  },
  {
   "cell_type": "code",
   "execution_count": 2,
   "metadata": {},
   "outputs": [],
   "source": [
    "# function for logging in to finviz.com \n",
    "def login_on_finviz():\n",
    "    wb = webdriver.Chrome()\n",
    "    wb.get('https://finviz.com/login.ashx')\n",
    "\n",
    "    inputs = wb.find_elements_by_class_name('input')\n",
    "    # enter your login and password for finviz elite\n",
    "    inputs[0].send_keys('Your Login')\n",
    "    inputs[1].send_keys('Your Password')\n",
    "\n",
    "    btn = wb.find_element_by_class_name('button')\n",
    "\n",
    "    time.sleep(1)\n",
    "    btn.click()\n",
    "    time.sleep(1.5)\n",
    "    \n",
    "    return wb"
   ]
  },
  {
   "cell_type": "code",
   "execution_count": 3,
   "metadata": {},
   "outputs": [],
   "source": [
    "# function to go to the desired page by the ticker\n",
    "def go_to_company_page(wb, ticker):\n",
    "    wb.get(f'https://elite.finviz.com/quote.ashx?t={ticker}')\n",
    "    time.sleep(5)\n",
    "    \n",
    "    return wb"
   ]
  },
  {
   "cell_type": "code",
   "execution_count": 4,
   "metadata": {},
   "outputs": [],
   "source": [
    "# function to change the form of a table\n",
    "def quarterly_table(wb):\n",
    "    tables = wb.find_elements_by_class_name('fullview-links')\n",
    "\n",
    "    for table in tables:\n",
    "        if 'quarterly' in table.text:\n",
    "            btn = table.find_elements_by_class_name('tab-link')\n",
    "            btn[-1].click()\n",
    "    \n",
    "    time.sleep(2)\n",
    "    return wb"
   ]
  },
  {
   "cell_type": "code",
   "execution_count": 62,
   "metadata": {},
   "outputs": [],
   "source": [
    "# function to getting table data to list\n",
    "def get_table_list(wb):\n",
    "    tables = wb.find_elements_by_class_name('snapshot-table2')\n",
    "    for table in tables:\n",
    "        if 'Period End Date' in table.text:\n",
    "            data = table\n",
    "            \n",
    "    td = data.find_elements_by_class_name('snapshot-td2')\n",
    "\n",
    "    table_list = []\n",
    "\n",
    "    for el in td:\n",
    "        table_list.append(el.text.replace(',', ''))\n",
    "            \n",
    "    return table_list"
   ]
  },
  {
   "cell_type": "code",
   "execution_count": 80,
   "metadata": {},
   "outputs": [],
   "source": [
    "# function to reformating table list\n",
    "def reformat_table_list(table_list):\n",
    "    np_table_list = np.array(table_list)\n",
    "    np_table_list = np_table_list.reshape(-1, 10)\n",
    "    np_table_list = np.delete(np_table_list, 1, 0)\n",
    "    \n",
    "    return np_table_list"
   ]
  },
  {
   "cell_type": "code",
   "execution_count": 69,
   "metadata": {},
   "outputs": [],
   "source": [
    "# function to making dataframe from lines\n",
    "def make_df(table_list, wb):\n",
    "    \n",
    "    np_table_list = reformat_table_list(table_list)\n",
    "    \n",
    "    index = np_table_list[1:, 0]\n",
    "    columns = np_table_list[0, 2:]\n",
    "    values = np_table_list[1:, 2:]\n",
    "    \n",
    "    df = pd.DataFrame(values, columns=columns, index=index)\n",
    "    \n",
    "    dimension = wb.find_elements_by_css_selector('td[align=\"right\"]')\n",
    "    for el in dimension:\n",
    "        if 'values in' in el.text:\n",
    "            title = el.text\n",
    "            \n",
    "    df.index.name = title\n",
    "    \n",
    "    return df"
   ]
  },
  {
   "cell_type": "markdown",
   "metadata": {},
   "source": [
    "### Main part"
   ]
  },
  {
   "cell_type": "code",
   "execution_count": 72,
   "metadata": {},
   "outputs": [],
   "source": [
    "# getting tickers\n",
    "data = pd.read_excel('Screener tests.xlsx')\n",
    "top_data = data[data['Cap M$'] != 'No data on finviz'][:100]\n",
    "tickers = list(top_data['Все'])"
   ]
  },
  {
   "cell_type": "code",
   "execution_count": null,
   "metadata": {},
   "outputs": [],
   "source": [
    "wb = login_on_finviz()\n",
    "\n",
    "for ticker in tickers:    \n",
    "    wb = go_to_company_page(wb, ticker)\n",
    "    wb = quarterly_table(wb)\n",
    "    table_list = get_table_list(wb)\n",
    "    df = make_df(table_list, wb)\n",
    "    df.to_excel(f'./reports/{ticker}.xlsx')\n",
    "    print(f'{ticker} - DONE!')\n",
    "    time.sleep(3)\n",
    "    \n",
    "wb.close()"
   ]
  },
  {
   "cell_type": "code",
   "execution_count": null,
   "metadata": {},
   "outputs": [],
   "source": []
  }
 ],
 "metadata": {
  "kernelspec": {
   "display_name": "Python 3",
   "language": "python",
   "name": "python3"
  },
  "language_info": {
   "codemirror_mode": {
    "name": "ipython",
    "version": 3
   },
   "file_extension": ".py",
   "mimetype": "text/x-python",
   "name": "python",
   "nbconvert_exporter": "python",
   "pygments_lexer": "ipython3",
   "version": "3.7.6"
  }
 },
 "nbformat": 4,
 "nbformat_minor": 4
}
